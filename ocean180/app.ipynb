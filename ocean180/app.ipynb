{
 "cells": [
  {
   "cell_type": "code",
   "execution_count": 1,
   "metadata": {},
   "outputs": [],
   "source": [
    "import pandas as pd\n",
    "import numpy as np\n",
    "import matplotlib.pyplot as plt\n",
    "import random\n",
    "\n",
    "pd.set_option('display.max_columns', 50)\n",
    "SEED =1234\n",
    "random.seed(SEED)\n",
    "np.random.seed(SEED)"
   ]
  },
  {
   "attachments": {},
   "cell_type": "markdown",
   "metadata": {},
   "source": [
    "### 地図上に可視化"
   ]
  },
  {
   "cell_type": "code",
   "execution_count": 9,
   "metadata": {},
   "outputs": [],
   "source": [
    "from folium import Map, Marker\n",
    "from folium.plugins import MarkerCluster\n",
    "\n",
    "data = pd.read_csv('data/train_data.csv',index_col=0)\n",
    "marker_cluster = MarkerCluster()\n",
    "map = Map(location=[25.5, 127], zoom_start=10)\n",
    "for i, r in data.iterrows():\n",
    "    Marker(location=[r['lat'], r['lon']]).add_to(marker_cluster)\n",
    "\n",
    "marker_cluster.add_to(map)\n",
    "map.save(\"map_ocean.html\")"
   ]
  },
  {
   "attachments": {},
   "cell_type": "markdown",
   "metadata": {},
   "source": [
    "## ベースモデル"
   ]
  },
  {
   "cell_type": "code",
   "execution_count": 20,
   "metadata": {},
   "outputs": [],
   "source": [
    "from sklearn.model_selection import train_test_split\n",
    "\n",
    "train_data = pd.read_csv('data/train_data.csv',index_col=0)\n",
    "train_data, val_data = train_test_split(train_data,test_size=0.2,shuffle=True,random_state=1234)\n",
    "test_data = pd.read_csv('data/test_data.csv',index_col=0)\n",
    "\n",
    "X_train = train_data.drop(['YMD','cover','Landsat_StartTime','PRODUCT_ID','mesh20'],axis=1)\n",
    "y_train = train_data['cover']\n",
    "\n",
    "X_val = val_data.drop(['YMD','cover','Landsat_StartTime','PRODUCT_ID','mesh20'],axis=1)\n",
    "y_val = val_data['cover']\n",
    "\n",
    "X_test = test_data.drop(['YMD','Landsat_StartTime','PRODUCT_ID','mesh20'],axis=1)"
   ]
  },
  {
   "cell_type": "code",
   "execution_count": 19,
   "metadata": {},
   "outputs": [
    {
     "name": "stderr",
     "output_type": "stream",
     "text": [
      "\u001b[32m[I 2023-01-24 23:15:28,596]\u001b[0m A new study created in memory with name: no-name-b4ba0368-c12f-4c67-a43e-518d35488ca1\u001b[0m\n",
      "\u001b[32m[I 2023-01-24 23:22:21,888]\u001b[0m Trial 0 finished with value: 0.012612398123661056 and parameters: {'feature_fraction': 1.0}. Best is trial 0 with value: 0.012612398123661056.\u001b[0m\n",
      "\u001b[32m[I 2023-01-24 23:25:56,508]\u001b[0m Trial 1 finished with value: 0.012666705976966739 and parameters: {'feature_fraction': 0.5}. Best is trial 0 with value: 0.012612398123661056.\u001b[0m\n",
      "\u001b[32m[I 2023-01-24 23:32:55,108]\u001b[0m Trial 2 finished with value: 0.012620464999066683 and parameters: {'feature_fraction': 0.8999999999999999}. Best is trial 0 with value: 0.012612398123661056.\u001b[0m\n",
      "\u001b[32m[I 2023-01-24 23:39:51,532]\u001b[0m Trial 3 finished with value: 0.012504184966478923 and parameters: {'feature_fraction': 0.7}. Best is trial 3 with value: 0.012504184966478923.\u001b[0m\n",
      "\u001b[32m[I 2023-01-24 23:43:23,121]\u001b[0m Trial 4 finished with value: 0.012761208687734834 and parameters: {'feature_fraction': 0.4}. Best is trial 3 with value: 0.012504184966478923.\u001b[0m\n",
      "\u001b[32m[I 2023-01-24 23:51:13,174]\u001b[0m Trial 5 finished with value: 0.012582390637091313 and parameters: {'feature_fraction': 0.8}. Best is trial 3 with value: 0.012504184966478923.\u001b[0m\n",
      "\u001b[32m[I 2023-01-24 23:58:24,369]\u001b[0m Trial 6 finished with value: 0.01261104002277839 and parameters: {'feature_fraction': 0.6}. Best is trial 3 with value: 0.012504184966478923.\u001b[0m\n",
      "feature_fraction, val_score: 0.012504: 100%|##########| 7/7 [42:55<00:00, 367.97s/it]\n",
      "\u001b[32m[I 2023-01-25 00:46:58,683]\u001b[0m Trial 7 finished with value: 0.012732882464402078 and parameters: {'num_leaves': 210}. Best is trial 7 with value: 0.012732882464402078.\u001b[0m\n",
      "\u001b[32m[I 2023-01-25 01:34:04,208]\u001b[0m Trial 8 finished with value: 0.01275175002709226 and parameters: {'num_leaves': 198}. Best is trial 7 with value: 0.012732882464402078.\u001b[0m\n",
      "\u001b[32m[I 2023-01-25 01:59:46,854]\u001b[0m Trial 9 finished with value: 0.012504170754329354 and parameters: {'num_leaves': 229}. Best is trial 9 with value: 0.012504170754329354.\u001b[0m\n",
      "\u001b[32m[I 2023-01-25 02:03:28,875]\u001b[0m Trial 10 finished with value: 0.012912474954603395 and parameters: {'num_leaves': 35}. Best is trial 9 with value: 0.012504170754329354.\u001b[0m\n",
      "\u001b[32m[I 2023-01-25 02:22:21,446]\u001b[0m Trial 11 finished with value: 0.01259834107741234 and parameters: {'num_leaves': 169}. Best is trial 9 with value: 0.012504170754329354.\u001b[0m\n",
      "\u001b[32m[I 2023-01-25 02:24:23,072]\u001b[0m Trial 12 finished with value: 0.016436039587087677 and parameters: {'num_leaves': 8}. Best is trial 9 with value: 0.012504170754329354.\u001b[0m\n",
      "\u001b[32m[I 2023-01-25 02:28:09,491]\u001b[0m Trial 13 finished with value: 0.012746862639889884 and parameters: {'num_leaves': 38}. Best is trial 9 with value: 0.012504170754329354.\u001b[0m\n",
      "\u001b[32m[I 2023-01-25 02:39:23,442]\u001b[0m Trial 14 finished with value: 0.012390119598239529 and parameters: {'num_leaves': 88}. Best is trial 14 with value: 0.012390119598239529.\u001b[0m\n",
      "\u001b[32m[I 2023-01-25 02:41:22,227]\u001b[0m Trial 15 finished with value: 0.017152089196517926 and parameters: {'num_leaves': 7}. Best is trial 14 with value: 0.012390119598239529.\u001b[0m\n",
      "\u001b[32m[I 2023-01-25 02:46:46,955]\u001b[0m Trial 16 finished with value: 0.012487320504871512 and parameters: {'num_leaves': 53}. Best is trial 14 with value: 0.012390119598239529.\u001b[0m\n",
      "\u001b[32m[I 2023-01-25 02:58:55,135]\u001b[0m Trial 17 finished with value: 0.012374318971200914 and parameters: {'num_leaves': 107}. Best is trial 17 with value: 0.012374318971200914.\u001b[0m\n",
      "\u001b[32m[I 2023-01-25 03:10:47,819]\u001b[0m Trial 18 finished with value: 0.01246335917237419 and parameters: {'num_leaves': 103}. Best is trial 17 with value: 0.012374318971200914.\u001b[0m\n",
      "\u001b[32m[I 2023-01-25 03:24:33,005]\u001b[0m Trial 19 finished with value: 0.012285477159702001 and parameters: {'num_leaves': 109}. Best is trial 19 with value: 0.012285477159702001.\u001b[0m\n",
      "\u001b[32m[I 2023-01-25 03:41:24,953]\u001b[0m Trial 20 finished with value: 0.012571762197693973 and parameters: {'num_leaves': 146}. Best is trial 19 with value: 0.012285477159702001.\u001b[0m\n",
      "\u001b[32m[I 2023-01-25 03:55:13,691]\u001b[0m Trial 21 finished with value: 0.012340303217139819 and parameters: {'num_leaves': 113}. Best is trial 19 with value: 0.012285477159702001.\u001b[0m\n",
      "\u001b[32m[I 2023-01-25 04:11:01,608]\u001b[0m Trial 22 finished with value: 0.012526292235887398 and parameters: {'num_leaves': 143}. Best is trial 19 with value: 0.012285477159702001.\u001b[0m\n",
      "\u001b[32m[I 2023-01-25 04:16:29,988]\u001b[0m Trial 23 finished with value: 0.012390213193806895 and parameters: {'num_leaves': 76}. Best is trial 19 with value: 0.012285477159702001.\u001b[0m\n",
      "\u001b[32m[I 2023-01-25 04:30:07,490]\u001b[0m Trial 24 finished with value: 0.012450922620865532 and parameters: {'num_leaves': 122}. Best is trial 19 with value: 0.012285477159702001.\u001b[0m\n",
      "\u001b[32m[I 2023-01-25 04:47:38,851]\u001b[0m Trial 25 finished with value: 0.012599260137282084 and parameters: {'num_leaves': 169}. Best is trial 19 with value: 0.012285477159702001.\u001b[0m\n",
      "\u001b[32m[I 2023-01-25 05:12:11,549]\u001b[0m Trial 26 finished with value: 0.012592410828677092 and parameters: {'num_leaves': 253}. Best is trial 19 with value: 0.012285477159702001.\u001b[0m\n",
      "num_leaves, val_score: 0.012285: 100%|##########| 20/20 [5:13:47<00:00, 941.36s/it] \n",
      "\u001b[32m[I 2023-01-25 05:23:23,566]\u001b[0m Trial 27 finished with value: 0.013217383626790771 and parameters: {'bagging_fraction': 0.6188197792656132, 'bagging_freq': 3}. Best is trial 27 with value: 0.013217383626790771.\u001b[0m\n",
      "\u001b[32m[I 2023-01-25 05:35:35,056]\u001b[0m Trial 28 finished with value: 0.01239261678797246 and parameters: {'bagging_fraction': 0.9428196628102868, 'bagging_freq': 5}. Best is trial 28 with value: 0.01239261678797246.\u001b[0m\n",
      "\u001b[32m[I 2023-01-25 05:47:07,185]\u001b[0m Trial 29 finished with value: 0.012944837016592714 and parameters: {'bagging_fraction': 0.7496915080078744, 'bagging_freq': 3}. Best is trial 28 with value: 0.01239261678797246.\u001b[0m\n",
      "\u001b[32m[I 2023-01-25 05:59:14,749]\u001b[0m Trial 30 finished with value: 0.012545066153740675 and parameters: {'bagging_fraction': 0.9584875570039451, 'bagging_freq': 2}. Best is trial 28 with value: 0.01239261678797246.\u001b[0m\n",
      "\u001b[32m[I 2023-01-25 06:09:59,964]\u001b[0m Trial 31 finished with value: 0.01313893230992863 and parameters: {'bagging_fraction': 0.5755313119357495, 'bagging_freq': 5}. Best is trial 28 with value: 0.01239261678797246.\u001b[0m\n",
      "\u001b[32m[I 2023-01-25 06:21:54,581]\u001b[0m Trial 32 finished with value: 0.012522752301655615 and parameters: {'bagging_fraction': 0.8912338417132798, 'bagging_freq': 1}. Best is trial 28 with value: 0.01239261678797246.\u001b[0m\n",
      "\u001b[32m[I 2023-01-25 06:33:24,304]\u001b[0m Trial 33 finished with value: 0.012963117700663865 and parameters: {'bagging_fraction': 0.7666420500434545, 'bagging_freq': 1}. Best is trial 28 with value: 0.01239261678797246.\u001b[0m\n",
      "\u001b[32m[I 2023-01-25 06:45:11,730]\u001b[0m Trial 34 finished with value: 0.012760795213895998 and parameters: {'bagging_fraction': 0.7304594049882517, 'bagging_freq': 1}. Best is trial 28 with value: 0.01239261678797246.\u001b[0m\n",
      "\u001b[32m[I 2023-01-25 06:57:23,642]\u001b[0m Trial 35 finished with value: 0.012556054383537976 and parameters: {'bagging_fraction': 0.9061520137485398, 'bagging_freq': 7}. Best is trial 28 with value: 0.01239261678797246.\u001b[0m\n",
      "\u001b[32m[I 2023-01-25 07:08:04,729]\u001b[0m Trial 36 finished with value: 0.01305458778999696 and parameters: {'bagging_fraction': 0.5208383910063165, 'bagging_freq': 1}. Best is trial 28 with value: 0.01239261678797246.\u001b[0m\n",
      "bagging, val_score: 0.012285: 100%|##########| 10/10 [1:55:53<00:00, 695.32s/it]\n",
      "\u001b[32m[I 2023-01-25 07:20:08,470]\u001b[0m Trial 37 finished with value: 0.012481408496036015 and parameters: {'feature_fraction': 0.652}. Best is trial 37 with value: 0.012481408496036015.\u001b[0m\n",
      "\u001b[32m[I 2023-01-25 07:32:22,941]\u001b[0m Trial 38 finished with value: 0.012677617970212357 and parameters: {'feature_fraction': 0.748}. Best is trial 37 with value: 0.012481408496036015.\u001b[0m\n",
      "\u001b[32m[I 2023-01-25 07:44:42,403]\u001b[0m Trial 39 finished with value: 0.012491165481167016 and parameters: {'feature_fraction': 0.7799999999999999}. Best is trial 37 with value: 0.012481408496036015.\u001b[0m\n",
      "\u001b[32m[I 2023-01-25 07:56:46,810]\u001b[0m Trial 40 finished with value: 0.012432975207942563 and parameters: {'feature_fraction': 0.6839999999999999}. Best is trial 40 with value: 0.012432975207942563.\u001b[0m\n",
      "\u001b[32m[I 2023-01-25 15:16:59,568]\u001b[0m Trial 41 finished with value: 0.012384500695238278 and parameters: {'feature_fraction': 0.716}. Best is trial 41 with value: 0.012384500695238278.\u001b[0m\n",
      "\u001b[32m[I 2023-01-25 15:28:19,452]\u001b[0m Trial 42 finished with value: 0.012574111146194361 and parameters: {'feature_fraction': 0.62}. Best is trial 41 with value: 0.012384500695238278.\u001b[0m\n",
      "feature_fraction_stage2, val_score: 0.012285: 100%|##########| 6/6 [8:20:14<00:00, 5002.45s/it]\n",
      "\u001b[32m[I 2023-01-25 15:41:24,654]\u001b[0m Trial 43 finished with value: 0.012480792361609613 and parameters: {'lambda_l1': 4.462592224391801e-05, 'lambda_l2': 0.14314898949397847}. Best is trial 43 with value: 0.012480792361609613.\u001b[0m\n",
      "\u001b[32m[I 2023-01-25 15:53:14,339]\u001b[0m Trial 44 finished with value: 0.012374170213940766 and parameters: {'lambda_l1': 1.424254390823691, 'lambda_l2': 7.2444829233832695e-06}. Best is trial 44 with value: 0.012374170213940766.\u001b[0m\n",
      "\u001b[32m[I 2023-01-25 16:06:50,577]\u001b[0m Trial 45 finished with value: 0.0123177467477876 and parameters: {'lambda_l1': 2.083308610170991e-05, 'lambda_l2': 0.00013424422655289244}. Best is trial 45 with value: 0.0123177467477876.\u001b[0m\n",
      "\u001b[32m[I 2023-01-25 16:20:46,997]\u001b[0m Trial 46 finished with value: 0.01224641214182405 and parameters: {'lambda_l1': 0.0019847003957027456, 'lambda_l2': 0.002260865690830386}. Best is trial 46 with value: 0.01224641214182405.\u001b[0m\n",
      "\u001b[32m[I 2023-01-25 16:34:46,048]\u001b[0m Trial 47 finished with value: 0.012311499356521715 and parameters: {'lambda_l1': 1.0987929615421757e-05, 'lambda_l2': 4.151789888171422e-06}. Best is trial 46 with value: 0.01224641214182405.\u001b[0m\n",
      "\u001b[32m[I 2023-01-25 16:48:32,629]\u001b[0m Trial 48 finished with value: 0.012410774552588415 and parameters: {'lambda_l1': 5.75751911047801e-08, 'lambda_l2': 0.07200418836705301}. Best is trial 46 with value: 0.01224641214182405.\u001b[0m\n",
      "\u001b[32m[I 2023-01-25 17:02:23,431]\u001b[0m Trial 49 finished with value: 0.012342325216376265 and parameters: {'lambda_l1': 0.0007940068407897176, 'lambda_l2': 1.448170509165674e-08}. Best is trial 46 with value: 0.01224641214182405.\u001b[0m\n",
      "\u001b[32m[I 2023-01-25 17:15:16,251]\u001b[0m Trial 50 finished with value: 0.012379985519119984 and parameters: {'lambda_l1': 0.00019096759705064756, 'lambda_l2': 5.937890237607324e-05}. Best is trial 46 with value: 0.01224641214182405.\u001b[0m\n",
      "\u001b[32m[I 2023-01-25 17:28:45,398]\u001b[0m Trial 51 finished with value: 0.01244366700537289 and parameters: {'lambda_l1': 2.1305705449315324e-05, 'lambda_l2': 0.11514944934267905}. Best is trial 46 with value: 0.01224641214182405.\u001b[0m\n",
      "\u001b[32m[I 2023-01-25 17:41:25,824]\u001b[0m Trial 52 finished with value: 0.012363561114740407 and parameters: {'lambda_l1': 2.1042641063285063e-05, 'lambda_l2': 0.0010358115104863016}. Best is trial 46 with value: 0.01224641214182405.\u001b[0m\n",
      "\u001b[32m[I 2023-01-25 17:54:41,333]\u001b[0m Trial 53 finished with value: 0.012495213560127534 and parameters: {'lambda_l1': 0.08300573600548858, 'lambda_l2': 0.004887840383054575}. Best is trial 46 with value: 0.01224641214182405.\u001b[0m\n",
      "\u001b[32m[I 2023-01-25 18:07:39,824]\u001b[0m Trial 54 finished with value: 0.012369522834653177 and parameters: {'lambda_l1': 0.005843326325619421, 'lambda_l2': 4.361983512385448e-07}. Best is trial 46 with value: 0.01224641214182405.\u001b[0m\n",
      "\u001b[32m[I 2023-01-25 18:20:13,992]\u001b[0m Trial 55 finished with value: 0.01228708762940305 and parameters: {'lambda_l1': 1.848028710154565e-07, 'lambda_l2': 1.8486213513765172e-06}. Best is trial 46 with value: 0.01224641214182405.\u001b[0m\n",
      "\u001b[32m[I 2023-01-25 18:33:04,924]\u001b[0m Trial 56 finished with value: 0.012413005880372833 and parameters: {'lambda_l1': 1.7874335220642854e-08, 'lambda_l2': 2.444115892767554}. Best is trial 46 with value: 0.01224641214182405.\u001b[0m\n",
      "\u001b[32m[I 2023-01-25 18:45:50,478]\u001b[0m Trial 57 finished with value: 0.012289040994654384 and parameters: {'lambda_l1': 6.598976194746006e-07, 'lambda_l2': 7.21955042876092e-08}. Best is trial 46 with value: 0.01224641214182405.\u001b[0m\n",
      "\u001b[32m[I 2023-01-25 18:58:54,768]\u001b[0m Trial 58 finished with value: 0.012385653991945345 and parameters: {'lambda_l1': 0.009781300031849058, 'lambda_l2': 4.180922081116686e-06}. Best is trial 46 with value: 0.01224641214182405.\u001b[0m\n",
      "\u001b[32m[I 2023-01-25 19:11:30,830]\u001b[0m Trial 59 finished with value: 0.01237493869958117 and parameters: {'lambda_l1': 2.9710184227865694e-07, 'lambda_l2': 0.0018882956346598923}. Best is trial 46 with value: 0.01224641214182405.\u001b[0m\n",
      "\u001b[32m[I 2023-01-25 19:24:02,823]\u001b[0m Trial 60 finished with value: 0.012288613867481342 and parameters: {'lambda_l1': 1.1132459747095808e-06, 'lambda_l2': 4.970862244174557e-07}. Best is trial 46 with value: 0.01224641214182405.\u001b[0m\n",
      "\u001b[32m[I 2023-01-25 19:37:03,365]\u001b[0m Trial 61 finished with value: 0.012373465457905202 and parameters: {'lambda_l1': 0.06492052653108084, 'lambda_l2': 0.009592781655555603}. Best is trial 46 with value: 0.01224641214182405.\u001b[0m\n",
      "\u001b[32m[I 2023-01-25 19:45:17,051]\u001b[0m Trial 62 finished with value: 0.012907471786911243 and parameters: {'lambda_l1': 3.0543212994526794, 'lambda_l2': 4.18709879839003e-05}. Best is trial 46 with value: 0.01224641214182405.\u001b[0m\n",
      "regularization_factors, val_score: 0.012246: 100%|##########| 20/20 [4:16:57<00:00, 770.88s/it]\n",
      "\u001b[32m[I 2023-01-25 19:52:16,040]\u001b[0m Trial 63 finished with value: 0.013265720700727823 and parameters: {'min_child_samples': 100}. Best is trial 63 with value: 0.013265720700727823.\u001b[0m\n",
      "\u001b[32m[I 2023-01-25 20:05:16,139]\u001b[0m Trial 64 finished with value: 0.012524995373668574 and parameters: {'min_child_samples': 5}. Best is trial 64 with value: 0.012524995373668574.\u001b[0m\n",
      "\u001b[32m[I 2023-01-25 20:17:57,199]\u001b[0m Trial 65 finished with value: 0.012471934327687024 and parameters: {'min_child_samples': 10}. Best is trial 65 with value: 0.012471934327687024.\u001b[0m\n",
      "\u001b[32m[I 2023-01-25 20:30:58,369]\u001b[0m Trial 66 finished with value: 0.0127028122644199 and parameters: {'min_child_samples': 50}. Best is trial 65 with value: 0.012471934327687024.\u001b[0m\n",
      "\u001b[32m[I 2023-01-25 20:44:16,307]\u001b[0m Trial 67 finished with value: 0.01266421153882143 and parameters: {'min_child_samples': 25}. Best is trial 65 with value: 0.012471934327687024.\u001b[0m\n",
      "min_data_in_leaf, val_score: 0.012246: 100%|##########| 5/5 [58:59<00:00, 707.85s/it]\n"
     ]
    },
    {
     "name": "stdout",
     "output_type": "stream",
     "text": [
      "Training until validation scores don't improve for 10 rounds\n",
      "Early stopping, best iteration is:\n",
      "[113]\ttraining's l2: 0.000622883\tvalid_1's l2: 0.0107592\n"
     ]
    }
   ],
   "source": [
    "import optuna.integration.lightgbm as lgb\n",
    "from sklearn.model_selection import KFold, TimeSeriesSplit\n",
    "from sklearn.model_selection import train_test_split\n",
    "import lightgbm as lgbn\n",
    "from sklearn.metrics import mean_absolute_error\n",
    "from sklearn.metrics import mean_squared_error\n",
    "from sklearn.metrics import r2_score\n",
    "\n",
    "# LightGBM用のデータセットに変換\n",
    "lgb_train = lgb.Dataset(X_train, y_train)\n",
    "\n",
    "# ハイパーパラメータサーチ&モデル構築\n",
    "params = {'objective': 'regression',\n",
    "        'metric': 'l2',\n",
    "        'random_seed':1234,\n",
    "        'n_jobs':-1,\n",
    "        'force_row_wise':True,\n",
    "        'verbose': -1 # これを指定しないと`No further splits with positive gain, best gain: -inf`というWarningが表示される\n",
    "        } \n",
    "\n",
    "kf = KFold(n_splits=5, shuffle = True, random_state=1234)\n",
    "# クロスバリデーションによるハイパーパラメータの探索 3fold\n",
    "tuner = lgb.LightGBMTunerCV(\n",
    "                        params, lgb_train,\n",
    "                        callbacks=[\n",
    "                                lgb.early_stopping(stopping_rounds=10,verbose=False),\n",
    "                                lgb.log_evaluation(False)\n",
    "                                ],\n",
    "                        folds=kf\n",
    "                        )\n",
    "# ハイパーパラメータ探索の実行\n",
    "tuner.run()\n",
    "# サーチしたパラメータの表示\n",
    "best_params = tuner.best_params\n",
    "\n",
    "#パラメータをもとに再学習\n",
    "lgb_train = lgb.Dataset(X_train, y_train)\n",
    "lgb_val = lgb.Dataset(X_val,y_val)\n",
    "\n",
    "model = lgbn.train(best_params, lgb_train,\n",
    "                valid_sets=[lgb_train, lgb_val],\n",
    "                callbacks=[\n",
    "                        lgb.early_stopping(10),\n",
    "                        lgb.log_evaluation(False),\n",
    "                        ],\n",
    "                num_boost_round =1000\n",
    "                )\n",
    "\n",
    "pred_y = model.predict(X_test)"
   ]
  },
  {
   "cell_type": "code",
   "execution_count": 23,
   "metadata": {},
   "outputs": [],
   "source": [
    "pred_y = np.round(pred_y,decimals=3)"
   ]
  },
  {
   "cell_type": "code",
   "execution_count": 25,
   "metadata": {},
   "outputs": [],
   "source": [
    "pd.DataFrame(pred_y).to_csv('data/submit.csv', header=False)"
   ]
  },
  {
   "attachments": {},
   "cell_type": "markdown",
   "metadata": {},
   "source": [
    "## EDA"
   ]
  },
  {
   "cell_type": "code",
   "execution_count": 47,
   "metadata": {},
   "outputs": [],
   "source": [
    "data = pd.read_csv('data/train_data.csv',index_col=0)"
   ]
  }
 ],
 "metadata": {
  "kernelspec": {
   "display_name": "ml",
   "language": "python",
   "name": "python3"
  },
  "language_info": {
   "codemirror_mode": {
    "name": "ipython",
    "version": 3
   },
   "file_extension": ".py",
   "mimetype": "text/x-python",
   "name": "python",
   "nbconvert_exporter": "python",
   "pygments_lexer": "ipython3",
   "version": "3.8.15 | packaged by conda-forge | (default, Nov 22 2022, 08:49:06) \n[Clang 14.0.6 ]"
  },
  "orig_nbformat": 4,
  "vscode": {
   "interpreter": {
    "hash": "670c604040d66b29972be6a0c76e08c75b836d1021775c9e646b5f6bc58d26fb"
   }
  }
 },
 "nbformat": 4,
 "nbformat_minor": 2
}
